{
  "nbformat": 4,
  "nbformat_minor": 0,
  "metadata": {
    "colab": {
      "provenance": [],
      "gpuType": "T4",
      "authorship_tag": "ABX9TyNC5V8A/kdRhy1yIT1xq8o2",
      "include_colab_link": true
    },
    "kernelspec": {
      "name": "python3",
      "display_name": "Python 3"
    },
    "language_info": {
      "name": "python"
    },
    "accelerator": "GPU"
  },
  "cells": [
    {
      "cell_type": "markdown",
      "metadata": {
        "id": "view-in-github",
        "colab_type": "text"
      },
      "source": [
        "<a href=\"https://colab.research.google.com/github/naimurborno/Object-Detection-using-api/blob/main/siamese%20network.ipynb\" target=\"_parent\"><img src=\"https://colab.research.google.com/assets/colab-badge.svg\" alt=\"Open In Colab\"/></a>"
      ]
    },
    {
      "cell_type": "code",
      "execution_count": 1,
      "metadata": {
        "id": "pjYhGZ-jMKTk"
      },
      "outputs": [],
      "source": [
        "import tensorflow as tf\n",
        "import pandas as pd\n",
        "import seaborn as sns\n",
        "import matplotlib.pyplot as plt\n",
        "import numpy as np\n",
        "from tensorflow import keras\n",
        "from tensorflow.keras import Model,Input\n",
        "from tensorflow.keras import datasets\n",
        "import random\n",
        "from tensorflow.keras import backend as K"
      ]
    },
    {
      "cell_type": "code",
      "source": [
        "(X_train,y_train),(X_test,y_test)=datasets.fashion_mnist.load_data()"
      ],
      "metadata": {
        "colab": {
          "base_uri": "https://localhost:8080/"
        },
        "id": "Q2ATrCNyMe45",
        "outputId": "67497d73-3795-44f2-e8bc-4880680c6df6"
      },
      "execution_count": 2,
      "outputs": [
        {
          "output_type": "stream",
          "name": "stdout",
          "text": [
            "Downloading data from https://storage.googleapis.com/tensorflow/tf-keras-datasets/train-labels-idx1-ubyte.gz\n",
            "29515/29515 [==============================] - 0s 0us/step\n",
            "Downloading data from https://storage.googleapis.com/tensorflow/tf-keras-datasets/train-images-idx3-ubyte.gz\n",
            "26421880/26421880 [==============================] - 0s 0us/step\n",
            "Downloading data from https://storage.googleapis.com/tensorflow/tf-keras-datasets/t10k-labels-idx1-ubyte.gz\n",
            "5148/5148 [==============================] - 0s 0us/step\n",
            "Downloading data from https://storage.googleapis.com/tensorflow/tf-keras-datasets/t10k-images-idx3-ubyte.gz\n",
            "4422102/4422102 [==============================] - 0s 0us/step\n"
          ]
        }
      ]
    },
    {
      "cell_type": "code",
      "source": [
        "X_train.shape"
      ],
      "metadata": {
        "colab": {
          "base_uri": "https://localhost:8080/"
        },
        "id": "7MICrvPSM3d_",
        "outputId": "430c4b7b-7dde-4ea4-87c0-8c9dc975430d"
      },
      "execution_count": 3,
      "outputs": [
        {
          "output_type": "execute_result",
          "data": {
            "text/plain": [
              "(60000, 28, 28)"
            ]
          },
          "metadata": {},
          "execution_count": 3
        }
      ]
    },
    {
      "cell_type": "code",
      "source": [
        "def create_pairs_on_set(x,digit_indices):\n",
        "  pairs=[]\n",
        "  labels=[]\n",
        "  n=min([len(digit_indices[d]) for d in range(10)])-1\n",
        "  for d in range(10):\n",
        "    for i in range(n):\n",
        "      z1,z2=digit_indices[d][i],digit_indices[d][i+1]\n",
        "      pairs+=[[x[z1],x[z2]]]\n",
        "      inc=random.randrange(1,10)\n",
        "      dn=(inc+d)%10\n",
        "      z1,z2=digit_indices[d][i],digit_indices[dn][i]\n",
        "      pairs+=[[x[z1],x[z2]]]\n",
        "      labels+=[1,0]\n",
        "  return np.array(pairs),np.array(labels)\n",
        "\n",
        "def create_pairs(images,labels):\n",
        "  digit_indices=[np.where(i==labels)[0] for i in range(10)]\n",
        "  pairs,y=create_pairs_on_set(images,digit_indices)\n",
        "  y=y.astype('float32')\n",
        "  return pairs,y"
      ],
      "metadata": {
        "id": "EVAZbPiAM5vf"
      },
      "execution_count": 4,
      "outputs": []
    },
    {
      "cell_type": "code",
      "source": [
        "tr_pairs,tr_y=create_pairs(X_train,y_train)"
      ],
      "metadata": {
        "id": "ASNokDdZM8O3"
      },
      "execution_count": 5,
      "outputs": []
    },
    {
      "cell_type": "code",
      "source": [
        "tr_pairs.shape"
      ],
      "metadata": {
        "colab": {
          "base_uri": "https://localhost:8080/"
        },
        "id": "joIi-jfiOwfW",
        "outputId": "a063ba65-526c-4ce0-9650-6faba1c24188"
      },
      "execution_count": 6,
      "outputs": [
        {
          "output_type": "execute_result",
          "data": {
            "text/plain": [
              "(119980, 2, 28, 28)"
            ]
          },
          "metadata": {},
          "execution_count": 6
        }
      ]
    },
    {
      "cell_type": "code",
      "source": [
        "tr_y.shape"
      ],
      "metadata": {
        "colab": {
          "base_uri": "https://localhost:8080/"
        },
        "id": "9jMrEL07O7W-",
        "outputId": "18c75625-d9d3-444d-979d-5c403877d5de"
      },
      "execution_count": 7,
      "outputs": [
        {
          "output_type": "execute_result",
          "data": {
            "text/plain": [
              "(119980,)"
            ]
          },
          "metadata": {},
          "execution_count": 7
        }
      ]
    },
    {
      "cell_type": "code",
      "source": [
        "def intialize_the_network():\n",
        "  input=Input(shape=(28,28),name='input_shape')\n",
        "  x=keras.layers.Flatten()(input)\n",
        "  x=keras.layers.Dense(500,activation='relu')(x)\n",
        "  x=keras.layers.Dense(1000,activation='relu')(x)\n",
        "  x=keras.layers.Dense(2000,activation='relu')(x)\n",
        "  return Model(inputs=input,outputs=x)"
      ],
      "metadata": {
        "id": "OovX_GxAPFFP"
      },
      "execution_count": 8,
      "outputs": []
    },
    {
      "cell_type": "code",
      "source": [
        "base_network=intialize_the_network()"
      ],
      "metadata": {
        "id": "zqYzghUuRGh2"
      },
      "execution_count": 9,
      "outputs": []
    },
    {
      "cell_type": "code",
      "source": [
        "def euclidean_distance(vects):\n",
        "  x, y = vects\n",
        "  sum_squares = K.sum(K.square(x-y), axis=1, keepdims=True)\n",
        "  # K.epsilon() = 1e-07 -> prevent number goes to small\n",
        "  return K.sqrt(K.maximum(sum_squares, K.epsilon()))\n",
        "\n",
        "def eucl_dist_output_shape(shapes):\n",
        "  shape1, shape2 = shapes\n",
        "  return (shape1[0], 1)"
      ],
      "metadata": {
        "id": "TlND0Hyx09dG"
      },
      "execution_count": 10,
      "outputs": []
    },
    {
      "cell_type": "code",
      "source": [
        "input_a=Input(shape=(28,28),name='left_input')\n",
        "vect_a=base_network(input_a)\n",
        "input_b=Input(shape=(28,28),name='right_input')\n",
        "vect_b=base_network(input_b)\n",
        "lamda=keras.layers.Lambda(function=euclidean_distance,output_shape=eucl_dist_output_shape)\n",
        "output=lamda([vect_a,vect_b])\n",
        "model=Model(inputs=[input_a,input_b],outputs=output)"
      ],
      "metadata": {
        "id": "B4I23PHmRMCm"
      },
      "execution_count": 11,
      "outputs": []
    },
    {
      "cell_type": "code",
      "source": [
        "keras.utils.plot_model(model,show_layer_names=True,show_shapes=True)"
      ],
      "metadata": {
        "colab": {
          "base_uri": "https://localhost:8080/",
          "height": 312
        },
        "id": "TfnitRIfRm33",
        "outputId": "7cb34986-4e52-4aa8-cfa0-5d7f7384fef9"
      },
      "execution_count": 12,
      "outputs": [
        {
          "output_type": "execute_result",
          "data": {
            "image/png": "[encoded data removed]",
            "text/plain": [
              "<IPython.core.display.Image object>"
            ]
          },
          "metadata": {},
          "execution_count": 12
        }
      ]
    },
    {
      "cell_type": "code",
      "source": [
        "def contrastive_loss_with_margin(margin):\n",
        "  def contrastive_loss(y_true, y_pred):\n",
        "    square_pred = K.square(y_pred)\n",
        "    margin_square = K.square(K.maximum(margin-y_pred, 0))\n",
        "    return ((1 - y_true) * margin_square + y_true * square_pred)\n",
        "  return contrastive_loss"
      ],
      "metadata": {
        "id": "GxKUc1hy41fM"
      },
      "execution_count": 15,
      "outputs": []
    },
    {
      "cell_type": "code",
      "source": [
        "model.compile(\n",
        "    optimizer='adam',\n",
        "    loss=contrastive_loss_with_margin(margin=1),\n",
        ")"
      ],
      "metadata": {
        "id": "_S0s5C_W2KRv"
      },
      "execution_count": 16,
      "outputs": []
    },
    {
      "cell_type": "code",
      "source": [
        "model.fit(x=[tr_pairs[:,1],tr_pairs[:,0]],y=tr_y,epochs=10)"
      ],
      "metadata": {
        "colab": {
          "base_uri": "https://localhost:8080/"
        },
        "id": "Hs84QtmI3CrF",
        "outputId": "07e72bb0-e903-4c3e-8b1f-769ef84a82fa"
      },
      "execution_count": 17,
      "outputs": [
        {
          "output_type": "stream",
          "name": "stdout",
          "text": [
            "Epoch 1/10\n",
            "3750/3750 [==============================] - 15s 4ms/step - loss: 0.4997\n",
            "Epoch 2/10\n",
            "3750/3750 [==============================] - 13s 4ms/step - loss: 0.4997\n",
            "Epoch 3/10\n",
            "3750/3750 [==============================] - 14s 4ms/step - loss: 0.4997\n",
            "Epoch 4/10\n",
            "3750/3750 [==============================] - 14s 4ms/step - loss: 0.4997\n",
            "Epoch 5/10\n",
            "3750/3750 [==============================] - 14s 4ms/step - loss: 0.4997\n",
            "Epoch 6/10\n",
            "3750/3750 [==============================] - 13s 4ms/step - loss: 0.4997\n",
            "Epoch 7/10\n",
            "3750/3750 [==============================] - 13s 4ms/step - loss: 0.4997\n",
            "Epoch 8/10\n",
            "3750/3750 [==============================] - 14s 4ms/step - loss: 0.4997\n",
            "Epoch 9/10\n",
            "3750/3750 [==============================] - 13s 4ms/step - loss: 0.4997\n",
            "Epoch 10/10\n",
            "3750/3750 [==============================] - 14s 4ms/step - loss: 0.4997\n"
          ]
        },
        {
          "output_type": "execute_result",
          "data": {
            "text/plain": [
              "<keras.src.callbacks.History at 0x7cd22ab7aad0>"
            ]
          },
          "metadata": {},
          "execution_count": 17
        }
      ]
    },
    {
      "cell_type": "code",
      "source": [],
      "metadata": {
        "id": "CZq9Ll8d33WU"
      },
      "execution_count": null,
      "outputs": []
    }
  ]
}